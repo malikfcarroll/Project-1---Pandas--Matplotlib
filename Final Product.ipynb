{
 "cells": [
  {
   "cell_type": "code",
   "execution_count": 267,
   "metadata": {},
   "outputs": [],
   "source": [
    "import pandas as pd\n",
    "import numpy as np\n",
    "from matplotlib import pyplot as plt\n",
    "from scipy import stats\n",
    "\n",
    "#Importing tools and libraries needed "
   ]
  },
  {
   "cell_type": "code",
   "execution_count": 268,
   "metadata": {},
   "outputs": [],
   "source": [
    "pl_one_data = pd.read_csv('nbadatasets/allen.csv')\n",
    "pl_two_data = pd.read_csv('nbadatasets/billups.csv')\n",
    "pl_three_data = pd.read_csv('nbadatasets/bryant.csv')\n",
    "pl_four_data = pd.read_csv('nbadatasets/carter.csv')\n",
    "pl_five_data = pd.read_csv('nbadatasets/duncan.csv')\n",
    "pl_six_data = pd.read_csv('nbadatasets/garnett.csv')\n",
    "pl_seven_data = pd.read_csv('nbadatasets/iverson.csv')\n",
    "pl_eight_data = pd.read_csv('nbadatasets/kidd.csv')\n",
    "pl_nine_data = pd.read_csv('nbadatasets/marion.csv')\n",
    "pl_ten_data = pd.read_csv('nbadatasets/mcgrady.csv')\n",
    "pl_eleven_data = pd.read_csv('nbadatasets/nash.csv')\n",
    "pl_twelve_data = pd.read_csv('nbadatasets/nowitski.csv')\n",
    "pl_thirteen_data = pd.read_csv('nbadatasets/oneal.csv')\n",
    "pl_fourteen_data = pd.read_csv('nbadatasets/pierce.csv')\n",
    "pl_fifteen_data = pd.read_csv('nbadatasets/stojakovic.csv')\n",
    "\n",
    "#Reading each of the fifteen csv files in as separate variables\n",
    "#Each file contains data for each of the fifteen players in our population"
   ]
  },
  {
   "cell_type": "code",
   "execution_count": 269,
   "metadata": {},
   "outputs": [
    {
     "data": {
      "text/html": [
       "<div>\n",
       "<style scoped>\n",
       "    .dataframe tbody tr th:only-of-type {\n",
       "        vertical-align: middle;\n",
       "    }\n",
       "\n",
       "    .dataframe tbody tr th {\n",
       "        vertical-align: top;\n",
       "    }\n",
       "\n",
       "    .dataframe thead th {\n",
       "        text-align: right;\n",
       "    }\n",
       "</style>\n",
       "<table border=\"1\" class=\"dataframe\">\n",
       "  <thead>\n",
       "    <tr style=\"text-align: right;\">\n",
       "      <th></th>\n",
       "      <th>Season</th>\n",
       "      <th>Age</th>\n",
       "      <th>Tm</th>\n",
       "      <th>Lg</th>\n",
       "      <th>Pos</th>\n",
       "      <th>G</th>\n",
       "      <th>GS</th>\n",
       "      <th>MP</th>\n",
       "      <th>FG</th>\n",
       "      <th>FGA</th>\n",
       "      <th>...</th>\n",
       "      <th>FT%</th>\n",
       "      <th>ORB</th>\n",
       "      <th>DRB</th>\n",
       "      <th>TRB</th>\n",
       "      <th>AST</th>\n",
       "      <th>STL</th>\n",
       "      <th>BLK</th>\n",
       "      <th>TOV</th>\n",
       "      <th>PF</th>\n",
       "      <th>PTS</th>\n",
       "    </tr>\n",
       "  </thead>\n",
       "  <tbody>\n",
       "    <tr>\n",
       "      <th>0</th>\n",
       "      <td>2000-01</td>\n",
       "      <td>27</td>\n",
       "      <td>PHO</td>\n",
       "      <td>NBA</td>\n",
       "      <td>PG</td>\n",
       "      <td>77</td>\n",
       "      <td>76</td>\n",
       "      <td>3065</td>\n",
       "      <td>5.3</td>\n",
       "      <td>12.9</td>\n",
       "      <td>...</td>\n",
       "      <td>0.814</td>\n",
       "      <td>1.1</td>\n",
       "      <td>4.7</td>\n",
       "      <td>5.8</td>\n",
       "      <td>8.8</td>\n",
       "      <td>1.9</td>\n",
       "      <td>0.3</td>\n",
       "      <td>3.4</td>\n",
       "      <td>2.0</td>\n",
       "      <td>15.3</td>\n",
       "    </tr>\n",
       "    <tr>\n",
       "      <th>1</th>\n",
       "      <td>2001-02</td>\n",
       "      <td>28</td>\n",
       "      <td>NJN</td>\n",
       "      <td>NBA</td>\n",
       "      <td>PG</td>\n",
       "      <td>82</td>\n",
       "      <td>82</td>\n",
       "      <td>3056</td>\n",
       "      <td>5.2</td>\n",
       "      <td>13.4</td>\n",
       "      <td>...</td>\n",
       "      <td>0.814</td>\n",
       "      <td>1.5</td>\n",
       "      <td>5.5</td>\n",
       "      <td>7.0</td>\n",
       "      <td>9.5</td>\n",
       "      <td>2.1</td>\n",
       "      <td>0.2</td>\n",
       "      <td>3.4</td>\n",
       "      <td>1.6</td>\n",
       "      <td>14.2</td>\n",
       "    </tr>\n",
       "    <tr>\n",
       "      <th>2</th>\n",
       "      <td>2002-03</td>\n",
       "      <td>29</td>\n",
       "      <td>NJN</td>\n",
       "      <td>NBA</td>\n",
       "      <td>PG</td>\n",
       "      <td>80</td>\n",
       "      <td>80</td>\n",
       "      <td>2989</td>\n",
       "      <td>6.2</td>\n",
       "      <td>15.0</td>\n",
       "      <td>...</td>\n",
       "      <td>0.841</td>\n",
       "      <td>1.3</td>\n",
       "      <td>4.7</td>\n",
       "      <td>6.1</td>\n",
       "      <td>8.6</td>\n",
       "      <td>2.2</td>\n",
       "      <td>0.3</td>\n",
       "      <td>3.6</td>\n",
       "      <td>1.5</td>\n",
       "      <td>18.0</td>\n",
       "    </tr>\n",
       "    <tr>\n",
       "      <th>3</th>\n",
       "      <td>2003-04</td>\n",
       "      <td>30</td>\n",
       "      <td>NJN</td>\n",
       "      <td>NBA</td>\n",
       "      <td>PG</td>\n",
       "      <td>67</td>\n",
       "      <td>66</td>\n",
       "      <td>2450</td>\n",
       "      <td>5.4</td>\n",
       "      <td>14.1</td>\n",
       "      <td>...</td>\n",
       "      <td>0.827</td>\n",
       "      <td>1.2</td>\n",
       "      <td>5.0</td>\n",
       "      <td>6.3</td>\n",
       "      <td>9.1</td>\n",
       "      <td>1.8</td>\n",
       "      <td>0.2</td>\n",
       "      <td>3.1</td>\n",
       "      <td>1.6</td>\n",
       "      <td>15.2</td>\n",
       "    </tr>\n",
       "    <tr>\n",
       "      <th>4</th>\n",
       "      <td>2004-05</td>\n",
       "      <td>31</td>\n",
       "      <td>NJN</td>\n",
       "      <td>NBA</td>\n",
       "      <td>PG</td>\n",
       "      <td>66</td>\n",
       "      <td>65</td>\n",
       "      <td>2435</td>\n",
       "      <td>5.0</td>\n",
       "      <td>12.6</td>\n",
       "      <td>...</td>\n",
       "      <td>0.740</td>\n",
       "      <td>1.4</td>\n",
       "      <td>5.8</td>\n",
       "      <td>7.2</td>\n",
       "      <td>8.1</td>\n",
       "      <td>1.8</td>\n",
       "      <td>0.1</td>\n",
       "      <td>2.5</td>\n",
       "      <td>1.6</td>\n",
       "      <td>14.1</td>\n",
       "    </tr>\n",
       "  </tbody>\n",
       "</table>\n",
       "<p>5 rows × 29 columns</p>\n",
       "</div>"
      ],
      "text/plain": [
       "    Season  Age   Tm   Lg Pos   G  GS    MP   FG   FGA  ...     FT%  ORB  DRB  \\\n",
       "0  2000-01   27  PHO  NBA  PG  77  76  3065  5.3  12.9  ...   0.814  1.1  4.7   \n",
       "1  2001-02   28  NJN  NBA  PG  82  82  3056  5.2  13.4  ...   0.814  1.5  5.5   \n",
       "2  2002-03   29  NJN  NBA  PG  80  80  2989  6.2  15.0  ...   0.841  1.3  4.7   \n",
       "3  2003-04   30  NJN  NBA  PG  67  66  2450  5.4  14.1  ...   0.827  1.2  5.0   \n",
       "4  2004-05   31  NJN  NBA  PG  66  65  2435  5.0  12.6  ...   0.740  1.4  5.8   \n",
       "\n",
       "   TRB  AST  STL  BLK  TOV   PF   PTS  \n",
       "0  5.8  8.8  1.9  0.3  3.4  2.0  15.3  \n",
       "1  7.0  9.5  2.1  0.2  3.4  1.6  14.2  \n",
       "2  6.1  8.6  2.2  0.3  3.6  1.5  18.0  \n",
       "3  6.3  9.1  1.8  0.2  3.1  1.6  15.2  \n",
       "4  7.2  8.1  1.8  0.1  2.5  1.6  14.1  \n",
       "\n",
       "[5 rows x 29 columns]"
      ]
     },
     "execution_count": 269,
     "metadata": {},
     "output_type": "execute_result"
    }
   ],
   "source": [
    "pl_eight_data.head()\n",
    "\n",
    "#Printing the first five lines of one of the data sets to see what our table looks like\n",
    "#Also making note of the titles of our columns of interest for later use"
   ]
  },
  {
   "cell_type": "code",
   "execution_count": 270,
   "metadata": {},
   "outputs": [],
   "source": [
    "allen = pl_one_data[['Age', 'PTS', 'TRB', 'AST', 'FG%']]\n",
    "billups = pl_two_data[['Age', 'PTS', 'TRB', 'AST', 'FG%']]\n",
    "bryant = pl_three_data[['Age', 'PTS', 'TRB', 'AST', 'FG%']]\n",
    "carter = pl_four_data[['Age', 'PTS', 'TRB', 'AST', 'FG%']]\n",
    "duncan = pl_five_data[['Age', 'PTS', 'TRB', 'AST', 'FG%']]\n",
    "garnett = pl_six_data[['Age', 'PTS', 'TRB', 'AST', 'FG%']]\n",
    "iverson = pl_seven_data[['Age', 'PTS', 'TRB', 'AST', 'FG%']]\n",
    "kidd = pl_eight_data[['Age', 'PTS', 'TRB', 'AST', 'FG%']]\n",
    "marion = pl_nine_data[['Age', 'PTS', 'TRB', 'AST', 'FG%']]\n",
    "mcgrady = pl_ten_data[['Age', 'PTS', 'TRB', 'AST', 'FG%']]\n",
    "nash = pl_eleven_data[['Age', 'PTS', 'TRB', 'AST', 'FG%']]\n",
    "nowitski = pl_twelve_data[['Age', 'PTS', 'TRB', 'AST', 'FG%']]\n",
    "oneal = pl_thirteen_data[['Age', 'PTS', 'TRB', 'AST', 'FG%']]\n",
    "pierce = pl_fourteen_data[['Age', 'PTS', 'TRB', 'AST', 'FG%']]\n",
    "stojakovic = pl_fifteen_data[['Age', 'PTS', 'TRB', 'AST', 'FG%']]\n",
    "\n",
    "#Assigning the relevant columns to fifteen new data frames for each player\n",
    "#Considered dropping the unwanted columns instead, but want to preserve the original data sets"
   ]
  },
  {
   "cell_type": "code",
   "execution_count": 272,
   "metadata": {},
   "outputs": [],
   "source": [
    "allen['Name'] = 'Ray Allen'\n",
    "billups['Name'] = 'Chauncey Billups'\n",
    "bryant['Name'] = 'Kobe Bryant'\n",
    "carter['Name'] = 'Vince Carter'\n",
    "duncan['Name'] = 'Tim Duncan'\n",
    "garnett['Name'] = 'Kevin Garnett'\n",
    "iverson['Name'] = 'Allen Iverson'\n",
    "kidd['Name'] = 'Jason Kidd'\n",
    "marion['Name'] = 'Shawn Marion'\n",
    "mcgrady['Name'] = 'Tracy McGrady'\n",
    "nash['Name'] = 'Steve Nash'\n",
    "nowitski['Name'] = 'Dirk Nowitski'\n",
    "oneal['Name'] = \"Shaquille O'Neal\"\n",
    "pierce['Name'] = 'Paul Pierce'\n",
    "stojakovic['Name'] = 'Peja Stojakovic'\n",
    "\n",
    "#Appending each player's name to the corresponding data frame\n",
    "#This will make it to use the 'groupby' function later\n",
    "#Rather than remembering the index, we can now call directly by name"
   ]
  },
  {
   "cell_type": "code",
   "execution_count": 273,
   "metadata": {},
   "outputs": [],
   "source": [
    "df = pd.concat(\n",
    "    [allen, billups, bryant, carter, duncan, garnett, iverson, kidd, marion, mcgrady, nash, nowitski, oneal, pierce, stojakovic]\n",
    ")\n",
    "\n",
    "#Combining the data frames of each player, now also including their unique name identifier, into one table\n",
    "#This will make it easier to just call columns and rows from one specific data frame instead of fifteen"
   ]
  },
  {
   "cell_type": "code",
   "execution_count": 274,
   "metadata": {},
   "outputs": [
    {
     "name": "stdout",
     "output_type": "stream",
     "text": [
      "<class 'pandas.core.frame.DataFrame'>\n",
      "Int64Index: 150 entries, 0 to 9\n",
      "Data columns (total 6 columns):\n",
      "Age     150 non-null int64\n",
      "PTS     150 non-null float64\n",
      "TRB     150 non-null float64\n",
      "AST     150 non-null float64\n",
      "FG%     150 non-null float64\n",
      "Name    150 non-null object\n",
      "dtypes: float64(4), int64(1), object(1)\n",
      "memory usage: 8.2+ KB\n",
      "   Age   PTS  TRB  AST    FG%       Name\n",
      "0   25  20.8  4.9  4.3  0.480  Ray Allen\n",
      "1   26  21.4  4.4  3.9  0.462  Ray Allen\n",
      "2   27  21.4  4.8  4.2  0.439  Ray Allen\n",
      "3   28  21.5  4.8  4.5  0.440  Ray Allen\n",
      "4   29  21.9  4.1  3.4  0.428  Ray Allen\n"
     ]
    }
   ],
   "source": [
    "df.info()\n",
    "print(df.head())\n",
    "\n",
    "#Optional step\n",
    "#Confirms that our new data frame df is properly formatted and should contain the information we need"
   ]
  },
  {
   "cell_type": "code",
   "execution_count": 275,
   "metadata": {},
   "outputs": [
    {
     "name": "stdout",
     "output_type": "stream",
     "text": [
      "            Name  Age     PTS\n",
      "0  Allen Iverson   25  [26.7]\n",
      "1  Allen Iverson   26  [25.9]\n",
      "2  Allen Iverson   27  [23.4]\n",
      "3  Allen Iverson   28  [22.3]\n",
      "4  Allen Iverson   29  [26.1]\n"
     ]
    }
   ],
   "source": [
    "df_grouped = df.groupby(['Name', 'Age'])['PTS'].unique().reset_index()\n",
    "print(df_grouped.head())\n",
    "\n",
    "#For the first analysis, sorting the number of points scored by the player and their age for the season"
   ]
  },
  {
   "cell_type": "code",
   "execution_count": 276,
   "metadata": {},
   "outputs": [
    {
     "name": "stdout",
     "output_type": "stream",
     "text": [
      "Age              Name      21      22      23      24      25      26      27  \\\n",
      "0       Allen Iverson     NaN     NaN     NaN     NaN  [26.7]  [25.9]  [23.4]   \n",
      "1    Chauncey Billups     NaN     NaN     NaN  [14.3]  [15.7]  [18.5]  [17.2]   \n",
      "2       Dirk Nowitski     NaN  [25.1]  [23.7]  [26.0]  [22.9]  [24.4]  [31.1]   \n",
      "3          Jason Kidd     NaN     NaN     NaN     NaN     NaN     NaN  [15.3]   \n",
      "4       Kevin Garnett     NaN     NaN     NaN  [20.1]  [19.4]  [20.4]  [22.1]   \n",
      "5         Kobe Bryant     NaN  [25.1]  [23.7]  [26.0]  [22.9]  [24.4]  [31.1]   \n",
      "6         Paul Pierce     NaN     NaN  [23.9]  [23.4]  [23.8]  [21.3]  [21.5]   \n",
      "7     Peja Stojakovic     NaN  [17.3]  [17.9]  [18.3]  [16.8]  [18.0]  [19.5]   \n",
      "8           Ray Allen     NaN     NaN     NaN     NaN  [20.8]  [21.4]  [21.4]   \n",
      "9    Shaquille O'Neal     NaN     NaN     NaN     NaN     NaN     NaN  [15.3]   \n",
      "10       Shawn Marion     NaN  [17.3]  [17.9]  [18.3]  [16.8]  [18.0]  [19.5]   \n",
      "11         Steve Nash     NaN     NaN     NaN     NaN     NaN  [16.5]  [18.6]   \n",
      "12         Tim Duncan     NaN     NaN     NaN  [20.6]  [22.6]  [21.3]  [21.9]   \n",
      "13      Tracy McGrady  [24.1]  [24.1]  [29.3]  [25.3]  [22.7]  [23.7]  [24.8]   \n",
      "14       Vince Carter     NaN     NaN     NaN  [25.0]  [22.4]  [21.6]  [21.3]   \n",
      "\n",
      "Age      28      29      30      31      32      33      34      35      36  \n",
      "0    [22.3]  [26.1]  [27.6]  [22.3]  [22.8]  [17.1]  [16.0]     NaN     NaN  \n",
      "1    [16.5]  [18.4]  [16.9]  [18.9]  [18.1]  [20.6]     NaN     NaN     NaN  \n",
      "2    [27.9]  [26.2]  [26.8]  [25.0]     NaN     NaN     NaN     NaN     NaN  \n",
      "3    [14.2]  [18.0]  [15.2]  [14.1]  [12.9]  [12.8]  [10.7]   [9.1]  [10.3]  \n",
      "4    [21.0]  [20.2]  [20.5]  [20.7]  [18.3]  [17.3]     NaN     NaN     NaN  \n",
      "5    [27.9]  [26.2]  [26.8]  [25.0]     NaN     NaN     NaN     NaN     NaN  \n",
      "6    [24.7]  [24.3]  [19.7]  [19.7]  [19.4]     NaN     NaN     NaN     NaN  \n",
      "7    [16.8]  [15.1]  [13.0]  [13.6]     NaN     NaN     NaN     NaN     NaN  \n",
      "8    [21.5]  [21.9]  [23.3]  [23.6]  [17.5]  [17.9]  [16.7]     NaN     NaN  \n",
      "9    [14.2]  [18.0]  [15.2]  [14.1]  [12.9]  [12.8]  [10.7]   [9.1]  [10.3]  \n",
      "10   [16.8]  [15.1]  [13.0]  [13.6]     NaN     NaN     NaN     NaN     NaN  \n",
      "11   [19.3]  [15.5]  [16.3]  [19.2]  [19.0]  [17.8]  [16.8]  [18.0]     NaN  \n",
      "12   [21.9]  [19.2]  [21.1]  [20.5]  [20.7]  [20.6]     NaN     NaN     NaN  \n",
      "13   [21.1]  [16.6]  [13.1]     NaN     NaN     NaN     NaN     NaN     NaN  \n",
      "14   [24.0]  [23.7]  [23.8]  [19.7]  [20.3]  [19.4]     NaN     NaN     NaN  \n"
     ]
    }
   ],
   "source": [
    "df_pivoted = df_grouped.pivot(index='Name', columns='Age', values='PTS').reset_index()\n",
    "print(df_pivoted)\n",
    "\n",
    "#Creating a pivot table showing the number of points each player scored at each age\n",
    "#For the analysis, will only use ages 22 to 34\n",
    "#As shown in table, ages outside of this range have fewer than five values\n",
    "#It would be hard to make meaningful conclusions off of one or two values"
   ]
  },
  {
   "cell_type": "code",
   "execution_count": 277,
   "metadata": {},
   "outputs": [
    {
     "name": "stdout",
     "output_type": "stream",
     "text": [
      "Average points for age 22: [21.78]\n",
      "Average points for age 23: [22.73333333]\n",
      "Average points for age 24: [21.73]\n",
      "Average points for age 25: [21.125]\n",
      "Average points for age 26: [21.18461538]\n",
      "Average points for age 27: [21.6]\n",
      "Average points for age 28: [20.67333333]\n",
      "Average points for age 29: [20.3]\n",
      "Average points for age 30: [19.48666667]\n",
      "Average points for age 31: [19.28571429]\n",
      "Average points for age 32: [18.19]\n",
      "Average points for age 33: [17.36666667]\n",
      "Average points for age 34: [14.18]\n"
     ]
    }
   ],
   "source": [
    "for i in range(22, 35):\n",
    "    print('Average points for age ' + str(i) + ': ' + str(df_pivoted[i].mean()))\n",
    "    \n",
    "#Before plotting, looking at any obvious trends in the averages    "
   ]
  },
  {
   "cell_type": "code",
   "execution_count": 278,
   "metadata": {},
   "outputs": [
    {
     "name": "stdout",
     "output_type": "stream",
     "text": [
      "Maximum points for age 22: [25.1]\n",
      "Maximum points for age 23: [29.3]\n",
      "Maximum points for age 24: [26.]\n",
      "Maximum points for age 25: [26.7]\n",
      "Maximum points for age 26: [25.9]\n",
      "Maximum points for age 27: [31.1]\n",
      "Maximum points for age 28: [27.9]\n",
      "Maximum points for age 29: [26.2]\n",
      "Maximum points for age 30: [27.6]\n",
      "Maximum points for age 31: [25.]\n",
      "Maximum points for age 32: [22.8]\n",
      "Maximum points for age 33: [20.6]\n",
      "Maximum points for age 34: [16.8]\n"
     ]
    }
   ],
   "source": [
    "for i in range(22, 35):\n",
    "    print('Maximum points for age ' + str(i) + ': ' + str(df_pivoted[i].max()))\n",
    "    \n",
    "#Looking for any obvious trends in the maximums    "
   ]
  },
  {
   "cell_type": "code",
   "execution_count": 279,
   "metadata": {},
   "outputs": [
    {
     "data": {
      "image/png": "[encoded data removed]",
      "text/plain": [
       "<Figure size 432x288 with 1 Axes>"
      ]
     },
     "metadata": {
      "needs_background": "light"
     },
     "output_type": "display_data"
    }
   ],
   "source": [
    "df = df.loc[(df['Age'] >= 22) & (df['Age'] <= 34)]\n",
    "\n",
    "ages = df['Age']\n",
    "points = df['PTS']\n",
    "rebounds = df['TRB']\n",
    "assists = df['AST']\n",
    "field_goal_percentage = df['FG%']\n",
    "\n",
    "plt.figure(figsize=(6,4))\n",
    "\n",
    "plt.scatter(ages, points, color='purple', marker='X')\n",
    "\n",
    "plt.xlabel('Age')\n",
    "plt.ylabel('Points')\n",
    "plt.title('Points vs Age')\n",
    "plt.axis([20, 35, 10, 35])\n",
    "\n",
    "plt.savefig('Points versus Age.jpg')\n",
    "\n",
    "plt.show()\n",
    "\n",
    "#Declaraing x and y variables needed for analyses\n",
    "#Creating a figure\n",
    "#Plotting points over the course of a player's career\n",
    "#Scatter plot makes the most sense here as it is effectively time series data\n",
    "#Setting up parameter for the graph\n",
    "#Saving image of plot"
   ]
  },
  {
   "cell_type": "code",
   "execution_count": 281,
   "metadata": {},
   "outputs": [
    {
     "data": {
      "image/png": "[encoded data removed]",
      "text/plain": [
       "<Figure size 648x432 with 1 Axes>"
      ]
     },
     "metadata": {
      "needs_background": "light"
     },
     "output_type": "display_data"
    },
    {
     "name": "stdout",
     "output_type": "stream",
     "text": [
      "Quadratic function of best fit is: -0.06000303684132346x^2 + 2.8707483172810204x - 12.508017213008786\n"
     ]
    }
   ],
   "source": [
    "%matplotlib inline\n",
    "\n",
    "plt.figure(figsize=(9,6))\n",
    "x = np.linspace(20, 35, 200)\n",
    "\n",
    "lobf_pts = np.polyfit(ages, points, 2)\n",
    "plt.plot(x, np.polyval(lobf_pts, x), color='red',  linestyle='--')\n",
    "\n",
    "plt.scatter(ages, points, color='blue', marker='o')\n",
    "\n",
    "plt.xlabel('Age')\n",
    "plt.ylabel('Points')\n",
    "plt.title('Points vs Age (with trend line)')\n",
    "plt.axis([21, 35, 10, 35])\n",
    "plt.legend(['Curve of best fit'])\n",
    "\n",
    "plt.savefig('Points versus Age with trend line.png')\n",
    "\n",
    "plt.show()\n",
    "\n",
    "\n",
    "print('Quadratic function of best fit is: ' + str(lobf_pts[0]) + 'x^2 + ' + str(lobf_pts[1]) + 'x - ' + str(lobf_pts[2]*-1))\n",
    "\n",
    "#Creating and plotting a line of best fit for the relationship between points and age\n",
    "#Using a quadratic as I expect the data to follow somewhat of a bell curve\n",
    "#Using 'inline' magic function to plot the line of best fit over the scatter plot\n",
    "#Adding a legend to idnetify the regression line"
   ]
  },
  {
   "cell_type": "code",
   "execution_count": 264,
   "metadata": {},
   "outputs": [
    {
     "data": {
      "image/png": "[encoded data removed]",
      "text/plain": [
       "<Figure size 648x432 with 1 Axes>"
      ]
     },
     "metadata": {
      "needs_background": "light"
     },
     "output_type": "display_data"
    },
    {
     "name": "stdout",
     "output_type": "stream",
     "text": [
      "Quadratic function of best fit is: -0.011731014235646575x^2 + 0.5178048659214186x + 1.3062924935212878\n"
     ]
    }
   ],
   "source": [
    "%matplotlib inline\n",
    "\n",
    "plt.figure(figsize=(9,6))\n",
    "\n",
    "lobf_reb = np.polyfit(ages, rebounds, 2)\n",
    "plt.plot(x, np.polyval(lobf_reb, x), color='#FFB266', linestyle=':')\n",
    "\n",
    "plt.scatter(ages, rebounds, color='#808080', marker='^')\n",
    "\n",
    "plt.xlabel('Age')\n",
    "plt.ylabel('Rebounds')\n",
    "plt.title('Rebounds vs Age (with trend line)')\n",
    "plt.legend(['Curve of best fit'])\n",
    "plt.axis([21, 35, 0, 15])\n",
    "plt.savefig('Rebounds versus Age with trend line.png')\n",
    "\n",
    "plt.show()\n",
    "\n",
    "print('Quadratic function of best fit is: ' + str(lobf_reb[0]) + 'x^2 + ' + str(lobf_reb[1]) + 'x + ' + str(lobf_reb[2]))\n",
    "\n",
    "#Plotting Rebounds versus Age\n",
    "#No real relationship seen here, independent of linear, quadratic, cubic, etc regression"
   ]
  },
  {
   "cell_type": "code",
   "execution_count": 259,
   "metadata": {},
   "outputs": [
    {
     "data": {
      "image/png": "[encoded data removed]",
      "text/plain": [
       "<Figure size 648x432 with 1 Axes>"
      ]
     },
     "metadata": {
      "needs_background": "light"
     },
     "output_type": "display_data"
    },
    {
     "name": "stdout",
     "output_type": "stream",
     "text": [
      "Line of best fit is: y = 0.2576733688961839x - 2.3249610176446485\n",
      "R^2 value is: 0.0980479853783986\n"
     ]
    }
   ],
   "source": [
    "%matplotlib inline\n",
    "\n",
    "plt.figure(figsize=(9,6))\n",
    "\n",
    "lobf_ast = np.polyfit(ages, assists, 1)\n",
    "plt.plot(x, np.polyval(lobf_ast, x), color='#E4E95B', linestyle='-')\n",
    "\n",
    "plt.scatter(ages, assists, color='#2BC46D', marker='+')\n",
    "\n",
    "plt.xlabel('Age')\n",
    "plt.ylabel('Assists')\n",
    "plt.title('Assists vs Age (with trend line)')\n",
    "plt.legend(['Line of best fit'])\n",
    "plt.axis([21, 35, 0, 15])\n",
    "plt.savefig('Assists versus Age with trend line.png')\n",
    "\n",
    "plt.show()\n",
    "\n",
    "slope, intercept, r_value, p_value, std_err = stats.linregress(ages, assists)\n",
    "print('Line of best fit is: y = ' + str(slope) + 'x - ' + str(intercept*-1))\n",
    "print('R^2 value is: ' + str(r_value**2))\n",
    "\n",
    "#Plotting Assists versus Age\n",
    "#No real relationship seen here, independent of linear, quadratic, cubic, etc. regression"
   ]
  },
  {
   "cell_type": "code",
   "execution_count": 283,
   "metadata": {},
   "outputs": [
    {
     "data": {
      "image/png": "[encoded data removed]",
      "text/plain": [
       "<Figure size 648x432 with 1 Axes>"
      ]
     },
     "metadata": {
      "needs_background": "light"
     },
     "output_type": "display_data"
    },
    {
     "name": "stdout",
     "output_type": "stream",
     "text": [
      "Quadratic function of best fit is: 6.919028612235506e-05x^2 - 0.0039031824031822804x + 0.5091251858863106\n"
     ]
    }
   ],
   "source": [
    "%matplotlib inline\n",
    "\n",
    "plt.figure(figsize=(9,6))\n",
    "\n",
    "lobf_fgp = np.polyfit(ages, field_goal_percentage, 2)\n",
    "plt.plot(x, np.polyval(lobf_fgp, x), color='#4BFAD1', linestyle='-.')\n",
    "\n",
    "plt.scatter(ages, field_goal_percentage, color='#000000', marker='2')\n",
    "\n",
    "plt.xlabel('Age')\n",
    "plt.ylabel('Field Goal Percentage (%)')\n",
    "plt.title('Field Goal Percentage vs Age (with trend line)')\n",
    "plt.legend(['Curve of best fit'])\n",
    "plt.axis([21, 35, 0.35, 0.60])\n",
    "plt.savefig('Field Goal Percentage versus Age with trend line.png')\n",
    "\n",
    "plt.show()\n",
    "\n",
    "print('Quadratic function of best fit is: ' + str(lobf_fgp[0]) + 'x^2 - ' + str(lobf_fgp[1]*-1) + 'x + ' + str(lobf_fgp[2]))\n",
    "\n",
    "#Plotting FG% versus Age\n",
    "#No real relationship seen here, independent of linear, quadratic, cubic, etc. regression"
   ]
  },
  {
   "cell_type": "code",
   "execution_count": null,
   "metadata": {},
   "outputs": [],
   "source": [
    " "
   ]
  }
 ],
 "metadata": {
  "kernelspec": {
   "display_name": "Python 3",
   "language": "python",
   "name": "python3"
  },
  "language_info": {
   "codemirror_mode": {
    "name": "ipython",
    "version": 3
   },
   "file_extension": ".py",
   "mimetype": "text/x-python",
   "name": "python",
   "nbconvert_exporter": "python",
   "pygments_lexer": "ipython3",
   "version": "3.7.1"
  }
 },
 "nbformat": 4,
 "nbformat_minor": 2
}
